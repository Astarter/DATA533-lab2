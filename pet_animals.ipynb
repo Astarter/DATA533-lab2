{
 "cells": [
  {
   "cell_type": "code",
   "execution_count": 1,
   "metadata": {},
   "outputs": [],
   "source": [
    "class pet:\n",
    "    \n",
    "    def __init__(self, name):\n",
    "        self.name = name\n",
    "        \n",
    "    def intro(self):\n",
    "        print(\"Hello, my name is {}, I'm your pet\".format(self.name))\n",
    "    \n",
    "    def display(self):\n",
    "        print(\"Pet's name: {}\".format(self.name))"
   ]
  },
  {
   "cell_type": "code",
   "execution_count": 2,
   "metadata": {},
   "outputs": [],
   "source": [
    "class cat(pet):\n",
    "    \n",
    "    def __init__(self, name, color):\n",
    "        self.name = name\n",
    "        self.color = color\n",
    "        \n",
    "    def sound(self):\n",
    "        print(\"Meow meow prrrrrr\")\n",
    "    \n",
    "    def describe(self, adj):\n",
    "        print(\"{}, the {}, {} cat\".format(self.name, adj, self.color))"
   ]
  },
  {
   "cell_type": "code",
   "execution_count": 3,
   "metadata": {},
   "outputs": [
    {
     "name": "stdout",
     "output_type": "stream",
     "text": [
      "Pet's name: Garfield\n",
      "Meow meow prrrrrr\n",
      "Hello, my name is Garfield, I'm your pet\n",
      "Meow meow prrrrrr\n",
      "Garfield, the lazy, orange cat\n"
     ]
    }
   ],
   "source": [
    "Garfield = cat(\"Garfield\", \"orange\")\n",
    "Garfield.display()\n",
    "Garfield.sound()\n",
    "Garfield.intro()\n",
    "Garfield.sound()\n",
    "Garfield.describe(\"lazy\")"
   ]
  }
 ],
 "metadata": {
  "kernelspec": {
   "display_name": "Python 3",
   "language": "python",
   "name": "python3"
  },
  "language_info": {
   "codemirror_mode": {
    "name": "ipython",
    "version": 3
   },
   "file_extension": ".py",
   "mimetype": "text/x-python",
   "name": "python",
   "nbconvert_exporter": "python",
   "pygments_lexer": "ipython3",
   "version": "3.8.3"
  }
 },
 "nbformat": 4,
 "nbformat_minor": 4
}
